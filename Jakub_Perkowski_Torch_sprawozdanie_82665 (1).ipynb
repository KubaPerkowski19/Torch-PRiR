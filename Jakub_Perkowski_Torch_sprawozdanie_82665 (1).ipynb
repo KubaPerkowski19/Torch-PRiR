{
  "nbformat": 4,
  "nbformat_minor": 0,
  "metadata": {
    "colab": {
      "provenance": []
    },
    "kernelspec": {
      "name": "python3",
      "display_name": "Python 3"
    },
    "language_info": {
      "name": "python"
    },
    "accelerator": "GPU",
    "gpuClass": "standard"
  },
  "cells": [
    {
      "cell_type": "markdown",
      "source": [
        "CPU:\n"
      ],
      "metadata": {
        "id": "uywysBl4t3Og"
      }
    },
    {
      "cell_type": "code",
      "source": [
        "import random\n",
        "import time\n",
        "\n",
        "def calculate_area(points: int, dimension: float):\n",
        "    start = time.time()\n",
        "    hit = 0\n",
        "    for i in range(points):\n",
        "        x_rand = (random.random() - 0.5) * 2 * dimension\n",
        "        y_rand = (random.random() - 0.5) * 2 * dimension\n",
        "        if (x_rand ** 2 + y_rand ** 2) <= dimension ** 2: hit += 1\n",
        "        \n",
        "    area = hit/points*4*dimension**2\n",
        "    end = time.time()\n",
        "    print(\"Czas trwania obliczeń: \", end - start)\n",
        "    return area\n",
        "\n",
        "num_points = 100000000\n",
        "for dimension in [1, 2, 3, 4, 5]:\n",
        "    print(\"Powierzchnia dla wymiaru: \", dimension)\n",
        "    print(\"Powierzchnia: \", calculate_area(num_points, dimension))\n",
        "\n"
      ],
      "metadata": {
        "colab": {
          "base_uri": "https://localhost:8080/"
        },
        "id": "thJMZLTovxl1",
        "outputId": "a718af80-da1c-4c1b-abe5-4c32c578421c"
      },
      "execution_count": 16,
      "outputs": [
        {
          "output_type": "stream",
          "name": "stdout",
          "text": [
            "Powierzchnia dla wymiaru:  1\n",
            "Czas trwania obliczeń:  73.29131293296814\n",
            "Powierzchnia:  3.14127156\n",
            "Powierzchnia dla wymiaru:  2\n",
            "Czas trwania obliczeń:  70.7254958152771\n",
            "Powierzchnia:  12.56699776\n",
            "Powierzchnia dla wymiaru:  3\n",
            "Czas trwania obliczeń:  70.54082703590393\n",
            "Powierzchnia:  28.2736674\n",
            "Powierzchnia dla wymiaru:  4\n",
            "Czas trwania obliczeń:  71.12316370010376\n",
            "Powierzchnia:  50.26883072\n",
            "Powierzchnia dla wymiaru:  5\n",
            "Czas trwania obliczeń:  70.65961384773254\n",
            "Powierzchnia:  78.536713\n"
          ]
        }
      ]
    },
    {
      "cell_type": "markdown",
      "source": [
        "GPU:\n"
      ],
      "metadata": {
        "id": "LLsp4592tz63"
      }
    },
    {
      "cell_type": "code",
      "source": [
        "import torch\n",
        "import time\n",
        "\n",
        "def calculate_area(points: int, dimension: float):\n",
        "    start = time.time()\n",
        "    x = torch.rand(points, device=torch.device(\"cuda\"))*2*dimension - dimension\n",
        "    y = torch.rand(points, device=torch.device(\"cuda\"))*2*dimension - dimension\n",
        "    area = (((x**2 + y**2) <= dimension**2).sum().to(torch.float32))/points*4*dimension**2\n",
        "    end = time.time()\n",
        "    print(\"Czas trwania obliczeń: \", end - start)\n",
        "    return area\n",
        "\n",
        "points = 100000000\n",
        "for dimension in [1, 2, 3, 4, 5]:\n",
        "    print(\"Powierzchnia dla wymiaru: \", dimension)\n",
        "    print(\"Powierzchnia: \", calculate_area(points, dimension))"
      ],
      "metadata": {
        "colab": {
          "base_uri": "https://localhost:8080/"
        },
        "id": "Fb9Xwt-NvNgd",
        "outputId": "499cac85-97cc-4452-d348-085c0b65e9e8"
      },
      "execution_count": 15,
      "outputs": [
        {
          "output_type": "stream",
          "name": "stdout",
          "text": [
            "Powierzchnia dla wymiaru:  1\n",
            "Czas trwania obliczeń:  0.00524139404296875\n",
            "Powierzchnia:  tensor(3.1415, device='cuda:0')\n",
            "Powierzchnia dla wymiaru:  2\n",
            "Czas trwania obliczeń:  0.000858306884765625\n",
            "Powierzchnia:  tensor(12.5671, device='cuda:0')\n",
            "Powierzchnia dla wymiaru:  3\n",
            "Czas trwania obliczeń:  0.000507354736328125\n",
            "Powierzchnia:  tensor(28.2769, device='cuda:0')\n",
            "Powierzchnia dla wymiaru:  4\n",
            "Czas trwania obliczeń:  0.0007963180541992188\n",
            "Powierzchnia:  tensor(50.2596, device='cuda:0')\n",
            "Powierzchnia dla wymiaru:  5\n",
            "Czas trwania obliczeń:  0.0007088184356689453\n",
            "Powierzchnia:  tensor(78.5397, device='cuda:0')\n"
          ]
        }
      ]
    },
    {
      "cell_type": "markdown",
      "source": [
        "Wykres czasu obliuczeń na GPU"
      ],
      "metadata": {
        "id": "uWFLKiMwwa6w"
      }
    },
    {
      "cell_type": "code",
      "source": [
        "import matplotlib.pyplot as plt\n",
        "\n",
        "Powierzchnia = [1, 2, 3, 4, 5]\n",
        "Czas = [0.0028247833251953125, 0.0015654563903808594, 0.0005078315734863281, 0.0013594627380371094, 0.0007264614105224609]\n",
        "plt.plot(Powierzchnia, Czas)\n",
        "\n",
        "plt.show()"
      ],
      "metadata": {
        "colab": {
          "base_uri": "https://localhost:8080/",
          "height": 265
        },
        "id": "gW993IqFwpCe",
        "outputId": "677b952e-690a-4a6c-d2a5-6097a61d1816"
      },
      "execution_count": 11,
      "outputs": [
        {
          "output_type": "display_data",
          "data": {
            "text/plain": [
              "<Figure size 432x288 with 1 Axes>"
            ],
            "image/png": "[encoded data removed]"
          },
          "metadata": {
            "needs_background": "light"
          }
        }
      ]
    },
    {
      "cell_type": "markdown",
      "source": [
        "Wykres czasu obliuczeń na CPU"
      ],
      "metadata": {
        "id": "dOeyXlF-xBfC"
      }
    },
    {
      "cell_type": "code",
      "source": [
        "import matplotlib.pyplot as plt\n",
        "\n",
        "Powierzchnia = [1, 2, 3, 4, 5]\n",
        "Czas = [73.29131293296814, 70.7254958152771, 70.54082703590393, 71.12316370010376, 70.65961384773254]\n",
        "plt.plot(Powierzchnia, Czas)\n",
        "\n",
        "plt.show()"
      ],
      "metadata": {
        "colab": {
          "base_uri": "https://localhost:8080/",
          "height": 267
        },
        "id": "VuAP81a8xExJ",
        "outputId": "ac0c73cc-369d-4951-dfd6-fc0634cdc14f"
      },
      "execution_count": 9,
      "outputs": [
        {
          "output_type": "display_data",
          "data": {
            "text/plain": [
              "<Figure size 432x288 with 1 Axes>"
            ],
            "image/png": "[encoded data removed]"
          },
          "metadata": {
            "needs_background": "light"
          }
        }
      ]
    },
    {
      "cell_type": "markdown",
      "source": [
        "Wykres Łączony"
      ],
      "metadata": {
        "id": "3ZeA5loF4BmO"
      }
    },
    {
      "cell_type": "code",
      "source": [
        "import matplotlib.pyplot as plt\n",
        "x  = [1, 2, 3, 4, 5]\n",
        "y1 = [73.29131293296814, 70.7254958152771, 70.54082703590393, 71.12316370010376, 70.65961384773254]\n",
        "y2 = [0.0028247833251953125, 0.0015654563903808594, 0.0005078315734863281, 0.0013594627380371094, 0.0007264614105224609]\n",
        "plt.plot(x, y1, label=\"CPU\")\n",
        "plt.plot(x, y2, label=\"GPU\")\n",
        "plt.plot()\n",
        "\n",
        "plt.xlabel(\"N\")\n",
        "plt.ylabel(\"Czas\")\n",
        "plt.legend()\n",
        "plt.show()"
      ],
      "metadata": {
        "colab": {
          "base_uri": "https://localhost:8080/",
          "height": 279
        },
        "id": "-K-NveAg4HvV",
        "outputId": "a0507288-d7de-4671-86be-ce77668b0b32"
      },
      "execution_count": 19,
      "outputs": [
        {
          "output_type": "display_data",
          "data": {
            "text/plain": [
              "<Figure size 432x288 with 1 Axes>"
            ],
            "image/png": "[encoded data removed]"
          },
          "metadata": {
            "needs_background": "light"
          }
        }
      ]
    }
  ]
}